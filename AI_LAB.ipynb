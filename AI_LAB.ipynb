{
 "cells": [
  {
   "cell_type": "code",
   "execution_count": null,
   "id": "32efb3c1",
   "metadata": {},
   "outputs": [],
   "source": [
    "def print_board(board):\n",
    "    for row in board:\n",
    "        print(\" | \".join(row))\n",
    "        print(\"-\" * 5)\n",
    "\n",
    "def check_winner(board, player):\n",
    "    # Check rows\n",
    "    for row in board:\n",
    "        if all([spot == player for spot in row]):\n",
    "            return True\n",
    "    \n",
    "    # Check columns\n",
    "    for col in range(3):\n",
    "        if all([board[row][col] == player for row in range(3)]):\n",
    "            return True\n",
    "    \n",
    "    # Check diagonals\n",
    "    if all([board[i][i] == player for i in range(3)]) or all([board[i][2-i] == player for i in range(3)]):\n",
    "        return True\n",
    "    \n",
    "    return False\n",
    "\n",
    "def is_board_full(board):\n",
    "    return all([spot != \" \" for row in board for spot in row])\n",
    "\n",
    "def main():\n",
    "    board = [[\" \" for _ in range(3)] for _ in range(3)]\n",
    "    current_player = \"X\"\n",
    "    \n",
    "    while True:\n",
    "        print_board(board)\n",
    "        row = int(input(f\"Player {current_player}, enter the row (0, 1, or 2): \"))\n",
    "        col = int(input(f\"Player {current_player}, enter the column (0, 1, or 2): \"))\n",
    "        \n",
    "        if board[row][col] != \" \":\n",
    "            print(\"Spot already taken, try again.\")\n",
    "            continue\n",
    "        \n",
    "        board[row][col] = current_player\n",
    "        \n",
    "        if check_winner(board, current_player):\n",
    "            print_board(board)\n",
    "            print(f\"Player {current_player} wins!\")\n",
    "            break\n",
    "        \n",
    "        if is_board_full(board):\n",
    "            print_board(board)\n",
    "            print(\"It's a tie!\")\n",
    "            break\n",
    "        \n",
    "        current_player = \"O\" if current_player == \"X\" else \"X\"\n",
    "\n",
    "if __name__ == \"__main__\":\n",
    "    main()\n"
   ]
  }
 ],
 "metadata": {
  "kernelspec": {
   "display_name": "Python 3 (ipykernel)",
   "language": "python",
   "name": "python3"
  },
  "language_info": {
   "codemirror_mode": {
    "name": "ipython",
    "version": 3
   },
   "file_extension": ".py",
   "mimetype": "text/x-python",
   "name": "python",
   "nbconvert_exporter": "python",
   "pygments_lexer": "ipython3",
   "version": "3.9.13"
  }
 },
 "nbformat": 4,
 "nbformat_minor": 5
}
